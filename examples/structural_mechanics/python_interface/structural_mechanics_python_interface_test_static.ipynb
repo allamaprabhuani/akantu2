{
 "cells": [
  {
   "cell_type": "markdown",
   "metadata": {},
   "source": [
    "# Test of Structural Mechanics\n",
    "This nodebook is based on the test `test_structural_mechanics_model_bernoulli_beam_2.cc`.\n",
    "It shows how meshes can be read in from the file system."
   ]
  },
  {
   "cell_type": "code",
   "execution_count": 1,
   "metadata": {},
   "outputs": [
    {
     "name": "stdout",
     "output_type": "stream",
     "text": [
      "Error importing pyakantu, try the other one\n"
     ]
    }
   ],
   "source": [
    "try:\n",
    "    import pyakantu as pyaka\n",
    "except:\n",
    "    print(\"Error importing pyakantu, try the other one\")\n",
    "    import py11_akantu as pyaka\n",
    "    \n",
    "import copy\n",
    "import numpy"
   ]
  },
  {
   "cell_type": "code",
   "execution_count": 2,
   "metadata": {},
   "outputs": [],
   "source": [
    "import matplotlib\n",
    "import matplotlib.pyplot as plt\n",
    "import numpy as np"
   ]
  },
  {
   "cell_type": "markdown",
   "metadata": {},
   "source": [
    "### Creating the Mesh\n",
    "We will read it in from a file directly, instead of manually create it."
   ]
  },
  {
   "cell_type": "code",
   "execution_count": 3,
   "metadata": {},
   "outputs": [],
   "source": [
    "# Create a mesh for the two dimensional case\n",
    "beam = pyaka.Mesh(2)\n",
    "beam.read(\"_bernoulli_beam_2.msh\", pyaka._miot_gmsh_struct)"
   ]
  },
  {
   "cell_type": "markdown",
   "metadata": {},
   "source": [
    "### Creating the Model"
   ]
  },
  {
   "cell_type": "code",
   "execution_count": 4,
   "metadata": {},
   "outputs": [],
   "source": [
    "model = pyaka.StructuralMechanicsModel(beam)"
   ]
  },
  {
   "cell_type": "markdown",
   "metadata": {},
   "source": [
    "#### Setting up the Modell"
   ]
  },
  {
   "cell_type": "markdown",
   "metadata": {},
   "source": [
    "##### Creating and Inserting the Materials"
   ]
  },
  {
   "cell_type": "code",
   "execution_count": 5,
   "metadata": {},
   "outputs": [],
   "source": [
    "mat1 = pyaka.StructuralMaterial()\n",
    "mat1.E = 3e10\n",
    "mat1.I = 0.0025\n",
    "mat1.A = 0.01\n",
    "mat1ID = model.addMaterial(mat1)"
   ]
  },
  {
   "cell_type": "code",
   "execution_count": 6,
   "metadata": {},
   "outputs": [],
   "source": [
    "mat2 = pyaka.StructuralMaterial()\n",
    "mat2.E = 3e10\n",
    "mat2.I = 0.00128\n",
    "mat2.A = 0.01\n",
    "mat2ID = model.addMaterial(mat2)"
   ]
  },
  {
   "cell_type": "markdown",
   "metadata": {},
   "source": [
    "##### Initializing the Model"
   ]
  },
  {
   "cell_type": "code",
   "execution_count": 7,
   "metadata": {},
   "outputs": [],
   "source": [
    "model.initFull(pyaka.AnalysisMethod._static)"
   ]
  },
  {
   "cell_type": "markdown",
   "metadata": {},
   "source": [
    "##### Assigning the Materials"
   ]
  },
  {
   "cell_type": "code",
   "execution_count": 8,
   "metadata": {},
   "outputs": [],
   "source": [
    "materials = model.getElementMaterialMap(pyaka.ElementType._bernoulli_beam_2)"
   ]
  },
  {
   "cell_type": "code",
   "execution_count": 9,
   "metadata": {},
   "outputs": [],
   "source": [
    "materials[0][0] = mat1ID\n",
    "materials[1][0] = mat2ID"
   ]
  },
  {
   "cell_type": "markdown",
   "metadata": {},
   "source": [
    "##### Setting Boundaries"
   ]
  },
  {
   "cell_type": "code",
   "execution_count": 10,
   "metadata": {},
   "outputs": [],
   "source": [
    "# Neumann\n",
    "M = 3600\n",
    "q = 6000\n",
    "L = 10\n",
    "forces = model.getExternalForce()\n",
    "forces[:] = 0\n",
    "forces[0, 1] = -q * L / 2\n",
    "forces[0, 2] = -q * L * L / 12\n",
    "forces[1, 1] = -q * L / 2\n",
    "forces[1, 2] = q * L * L / 12\n",
    "forces[2, 0] = mat2.E * mat2.A / 18 \n",
    "forces[2, 2] = -M"
   ]
  },
  {
   "cell_type": "code",
   "execution_count": 11,
   "metadata": {},
   "outputs": [],
   "source": [
    "# Dirichlets\n",
    "# Block all dofs of the first node, since it is fixed.\n",
    "#  All other nodes have no restrictions\n",
    "boundary = model.getBlockedDOFs()\n",
    "boundary[0, :] = True\n",
    "boundary[1, :] = False\n",
    "boundary[1, 1] = True\n",
    "boundary[2, :] = False\n",
    "boundary[2, 1] = True"
   ]
  },
  {
   "cell_type": "markdown",
   "metadata": {},
   "source": [
    "### Solving the System"
   ]
  },
  {
   "cell_type": "code",
   "execution_count": 12,
   "metadata": {},
   "outputs": [],
   "source": [
    "model.solveStep()\n",
    "disp = model.getDisplacement()"
   ]
  },
  {
   "cell_type": "markdown",
   "metadata": {},
   "source": [
    "Extract the solution"
   ]
  },
  {
   "cell_type": "code",
   "execution_count": 13,
   "metadata": {},
   "outputs": [],
   "source": [
    "d1 = disp[1, 2]\n",
    "d2 = disp[2, 2]\n",
    "d3 = disp[1, 0]\n"
   ]
  },
  {
   "cell_type": "markdown",
   "metadata": {},
   "source": [
    "### Compare with Analytical Solution\n",
    "For reference see the referenced file above."
   ]
  },
  {
   "cell_type": "code",
   "execution_count": 14,
   "metadata": {},
   "outputs": [],
   "source": [
    "d1_ex = 5.6 / 4800\n",
    "d2_ex = -3.7 / 4800\n",
    "d3_ex = 10. / 18"
   ]
  },
  {
   "cell_type": "code",
   "execution_count": 15,
   "metadata": {},
   "outputs": [],
   "source": [
    "from math import isclose "
   ]
  },
  {
   "cell_type": "code",
   "execution_count": 16,
   "metadata": {},
   "outputs": [
    {
     "name": "stdout",
     "output_type": "stream",
     "text": [
      "It worked\n"
     ]
    }
   ],
   "source": [
    "status = True\n",
    "if not isclose(d1_ex, d1):\n",
    "    print(\"Failed for d1, expected '{}' but got '{}'\".format(d1_ex, d1))\n",
    "    status = False\n",
    "if not isclose(d2_ex, d2):\n",
    "    print(\"Failed for d2, expected '{}' but got '{}'\".format(d2_ex, d2))\n",
    "    status = False\n",
    "if not isclose(d3_ex, d3):\n",
    "    print(\"Failed for d3, expected '{}' but got '{}'\".format(d3_ex, d3))\n",
    "    status = False\n",
    "if status:\n",
    "    print(\"It worked\")\n",
    "else:\n",
    "    raise ValueError(\"There is an error, some tests failed.\")"
   ]
  }
 ],
 "metadata": {
  "kernelspec": {
   "display_name": "Python 3",
   "language": "python",
   "name": "python3"
  },
  "language_info": {
   "codemirror_mode": {
    "name": "ipython",
    "version": 3
   },
   "file_extension": ".py",
   "mimetype": "text/x-python",
   "name": "python",
   "nbconvert_exporter": "python",
   "pygments_lexer": "ipython3",
   "version": "3.9.1"
  }
 },
 "nbformat": 4,
 "nbformat_minor": 4
}

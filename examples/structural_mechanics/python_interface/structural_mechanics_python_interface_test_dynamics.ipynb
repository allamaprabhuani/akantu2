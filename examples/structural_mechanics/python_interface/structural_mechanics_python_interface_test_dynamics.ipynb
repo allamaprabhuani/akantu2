{
 "cells": [
  {
   "cell_type": "markdown",
   "metadata": {},
   "source": [
    "# Test of Structural Mechanics\n",
    "In this example a beam, consisting of two elements, three nodes, is created.\n",
    "The left most node is fixed and a force is applied at the right most node.\n"
   ]
  },
  {
   "cell_type": "code",
   "execution_count": 1,
   "metadata": {},
   "outputs": [],
   "source": [
    "import akantu as pyaka\n",
    "    \n",
    "import copy\n",
    "import numpy"
   ]
  },
  {
   "cell_type": "code",
   "execution_count": 2,
   "metadata": {},
   "outputs": [],
   "source": [
    "import matplotlib\n",
    "import matplotlib.pyplot as plt\n",
    "import numpy as np"
   ]
  },
  {
   "cell_type": "markdown",
   "metadata": {},
   "source": [
    "### Creating the Mesh"
   ]
  },
  {
   "cell_type": "code",
   "execution_count": 3,
   "metadata": {},
   "outputs": [],
   "source": [
    "# Create a mesh for the two dimensional case\n",
    "el_type = pyaka._bernoulli_beam_2\n",
    "beam = pyaka.Mesh(2)"
   ]
  },
  {
   "cell_type": "markdown",
   "metadata": {},
   "source": [
    "We now create the connectivity array for the beam."
   ]
  },
  {
   "cell_type": "code",
   "execution_count": 4,
   "metadata": {},
   "outputs": [],
   "source": [
    "beam.addConnectivityType(el_type)"
   ]
  },
  {
   "cell_type": "markdown",
   "metadata": {},
   "source": [
    "We need a `MeshAccessor` in order to change the size of the mesh entities."
   ]
  },
  {
   "cell_type": "code",
   "execution_count": 5,
   "metadata": {},
   "outputs": [],
   "source": [
    "beamAcc = pyaka.MeshAccessor(beam)"
   ]
  },
  {
   "cell_type": "markdown",
   "metadata": {},
   "source": [
    "Now we create the array to store the nodes and the connectivities and give them their size. "
   ]
  },
  {
   "cell_type": "code",
   "execution_count": 6,
   "metadata": {},
   "outputs": [],
   "source": [
    "nb_elem = 40\n",
    "L = 2\n",
    "beamAcc.resizeConnectivity(nb_elem, el_type)\n",
    "beamAcc.resizeNodes(nb_elem + 1)"
   ]
  },
  {
   "cell_type": "markdown",
   "metadata": {},
   "source": [
    "#### Setting the Nodes"
   ]
  },
  {
   "cell_type": "code",
   "execution_count": 7,
   "metadata": {},
   "outputs": [],
   "source": [
    "Nodes = beam.getNodes()\n",
    "length = L / nb_elem\n",
    "Nodes[:, :] = 0.\n",
    "Nodes[:, 0] = np.arange(nb_elem+1) * length"
   ]
  },
  {
   "cell_type": "markdown",
   "metadata": {},
   "source": [
    "#### Setting the Connections"
   ]
  },
  {
   "cell_type": "code",
   "execution_count": 8,
   "metadata": {},
   "outputs": [],
   "source": [
    "Conn = beam.getConnectivity(el_type)\n",
    "\n",
    "for e in range(nb_elem):\n",
    "    Conn[e, :] = [e, e + 1]"
   ]
  },
  {
   "cell_type": "markdown",
   "metadata": {},
   "source": [
    "#### Ready\n",
    "We have to make the mesh ready."
   ]
  },
  {
   "cell_type": "code",
   "execution_count": 9,
   "metadata": {},
   "outputs": [],
   "source": [
    "beamAcc.makeReady()"
   ]
  },
  {
   "cell_type": "markdown",
   "metadata": {},
   "source": [
    "### Creating the Model"
   ]
  },
  {
   "cell_type": "code",
   "execution_count": 10,
   "metadata": {},
   "outputs": [],
   "source": [
    "model = pyaka.StructuralMechanicsModel(beam)"
   ]
  },
  {
   "cell_type": "code",
   "execution_count": 11,
   "metadata": {},
   "outputs": [],
   "source": [
    "if el_type == pyaka._bernoulli_beam_3:\n",
    "    normal = beam.getDataReal(\"extra_normal\", el_type)\n",
    "\n",
    "    for e in range(nb_elem):\n",
    "        normal[e, :] = [0, 0, 1]"
   ]
  },
  {
   "cell_type": "markdown",
   "metadata": {},
   "source": [
    "#### Setting up the Modell"
   ]
  },
  {
   "cell_type": "markdown",
   "metadata": {},
   "source": [
    "##### Creating and Inserting the Materials"
   ]
  },
  {
   "cell_type": "code",
   "execution_count": 12,
   "metadata": {},
   "outputs": [
    {
     "data": {
      "text/plain": [
       "0"
      ]
     },
     "execution_count": 12,
     "metadata": {},
     "output_type": "execute_result"
    }
   ],
   "source": [
    "mat1 = pyaka.StructuralMaterial()\n",
    "mat1.E = 1e9\n",
    "mat1.rho = 10.\n",
    "mat1.I = 1.\n",
    "mat1.Iz = 1.\n",
    "mat1.Iy = 1.\n",
    "mat1.A = 1.\n",
    "mat1.GJ = 1.\n",
    "model.addMaterial(mat1)"
   ]
  },
  {
   "cell_type": "markdown",
   "metadata": {},
   "source": [
    "##### Initializing the Model"
   ]
  },
  {
   "cell_type": "code",
   "execution_count": 13,
   "metadata": {},
   "outputs": [],
   "source": [
    "model.initFull(pyaka.AnalysisMethod._implicit_dynamic)"
   ]
  },
  {
   "cell_type": "markdown",
   "metadata": {},
   "source": [
    "##### Assigning the Materials"
   ]
  },
  {
   "cell_type": "code",
   "execution_count": 14,
   "metadata": {},
   "outputs": [],
   "source": [
    "materials = model.getElementMaterial(el_type)"
   ]
  },
  {
   "cell_type": "code",
   "execution_count": 15,
   "metadata": {},
   "outputs": [],
   "source": [
    "materials[:, :] = 0"
   ]
  },
  {
   "cell_type": "markdown",
   "metadata": {},
   "source": [
    "##### Setting Boundaries"
   ]
  },
  {
   "cell_type": "code",
   "execution_count": 16,
   "metadata": {},
   "outputs": [
    {
     "name": "stdout",
     "output_type": "stream",
     "text": [
      "20\n"
     ]
    }
   ],
   "source": [
    "# Neumann\n",
    "F = 1e4\n",
    "no_print = int(nb_elem / 2)\n",
    "\n",
    "print(no_print)\n",
    "\n",
    "#  Apply a force of `10` at the last (right most) node.\n",
    "forces = model.getExternalForce()\n",
    "forces[:, :] = 0\n",
    "forces[no_print, 1] = F"
   ]
  },
  {
   "cell_type": "code",
   "execution_count": 17,
   "metadata": {},
   "outputs": [],
   "source": [
    "# Dirichlets\n",
    "# Block all dofs of the first node, since it is fixed.\n",
    "#  All other nodes have no restrictions\n",
    "boundary = model.getBlockedDOFs()\n",
    "boundary[:, :] = False\n",
    "\n",
    "boundary[0, 0] = True\n",
    "boundary[0, 1] = True\n",
    "\n",
    "if el_type == pyaka._bernoulli_beam_3:\n",
    "    boundary[0, 2] = True\n",
    "\n",
    "boundary[nb_elem, 1] = True"
   ]
  },
  {
   "cell_type": "markdown",
   "metadata": {},
   "source": [
    "### Solving the System"
   ]
  },
  {
   "cell_type": "code",
   "execution_count": 18,
   "metadata": {},
   "outputs": [],
   "source": [
    "# Set up the system\n",
    "deltaT = 1e-6\n",
    "model.setTimeStep(deltaT)\n",
    "solver = model.getNonLinearSolver()\n",
    "solver.set(\"max_iterations\", 100)\n",
    "solver.set(\"threshold\", 1e-8)\n",
    "solver.set(\"convergence_type\", pyaka.SolveConvergenceCriteria.solution)"
   ]
  },
  {
   "cell_type": "code",
   "execution_count": 19,
   "metadata": {},
   "outputs": [],
   "source": [
    "model.assembleMatrix(\"M\")\n",
    "M_ = model.getDOFManager().getMatrix(\"M\")\n",
    "M = pyaka.AkantuSparseMatrix(M_)"
   ]
  },
  {
   "cell_type": "code",
   "execution_count": 20,
   "metadata": {},
   "outputs": [],
   "source": [
    "model.assembleMatrix(\"K\")\n",
    "K_ = model.getDOFManager().getMatrix(\"K\")\n",
    "K = pyaka.AkantuSparseMatrix(K_)"
   ]
  },
  {
   "cell_type": "code",
   "execution_count": 21,
   "metadata": {},
   "outputs": [],
   "source": [
    "C_ = model.getDOFManager().getMatrix(\"C\")\n",
    "C_.add(M_, 0.00001)\n",
    "C_.add(K_, 0.00001)"
   ]
  },
  {
   "cell_type": "code",
   "execution_count": 22,
   "metadata": {},
   "outputs": [],
   "source": [
    "def Mmat2D(L=1, A=1, rho=1):\n",
    "    return rho*A*L/420 * np.matrix([\n",
    "        [140,    0,       0,  70,     0,       0],\n",
    "        [  0,  156,    22*L,   0,    54,   -13*L],\n",
    "        [  0, 22*L,  4*L**2,   0,  13*L, -3*L**2],\n",
    "        [ 70,    0,       0, 140,     0,       0],\n",
    "        [  0,   54,    13*L,   0,   156,   -22*L],\n",
    "        [  0,-13*L, -3*L**2,   0, -22*L,  4*L**2]])"
   ]
  },
  {
   "cell_type": "code",
   "execution_count": 23,
   "metadata": {},
   "outputs": [],
   "source": [
    "def Kmat2D(L=1, A=1, E=1, I=1):\n",
    "    return np.matrix([\n",
    "        [ E*A/L,            0,           0, -E*A/L,            0,           0],\n",
    "        [     0,  12*E*I/L**3,  6*E*I/L**2,      0, -12*E*I/L**3,  6*E*I/L**2],\n",
    "        [     0,   6*E*I/L**2,     4*E*I/L,      0,  -6*E*I/L**2,     2*E*I/L],\n",
    "        [-E*A/L,            0,           0,  E*A/L,            0,           0],\n",
    "        [     0, -12*E*I/L**3, -6*E*I/L**2,      0,  12*E*I/L**3, -6*E*I/L**2],\n",
    "        [     0,   6*E*I/L**2,     2*E*I/L,      0,  -6*E*I/L**2,    4*E*I/L]])"
   ]
  },
  {
   "cell_type": "code",
   "execution_count": 24,
   "metadata": {},
   "outputs": [],
   "source": [
    "def Mmat3D(L=1, A=1, rho=1):\n",
    "    return rho*A*L/420 * np.matrix([\n",
    "        [140,     0,       0,   0,       0,       0,  70,     0,     0,   0,       0,       0],\n",
    "        [  0,   156,       0,   0,       0,    22*L,   0,    54,     0,   0,       0,   -13*L],\n",
    "        [  0,     0,     156,   0,   -22*L,       0,   0,     0,    54,   0,    13*L,       0],\n",
    "        [  0,     0,       0, 140,       0,       0,   0,     0,     0,  70,       0,       0],\n",
    "        [  0,     0,   -22*L,   0,  4*L**2,       0,   0,     0, -13*L,   0, -3*L**2,       0],\n",
    "        [  0,  22*L,       0,   0,       0,  4*L**2,   0,  13*L,     0,   0,       0, -3*L**2],\n",
    "        [ 70,     0,       0,   0,       0,       0, 140,     0,     0,   0,       0,       0],\n",
    "        [  0,    54,       0,   0,       0,    13*L,   0,   156,     0,   0,       0,   -22*L],\n",
    "        [  0,     0,      54,   0,   -13*L,       0,   0,     0,   156,   0,    22*L,       0],\n",
    "        [  0,     0,       0,  70,       0,       0,   0,     0,     0, 140,       0,       0],\n",
    "        [  0,     0,    13*L,   0, -3*L**2,       0,   0,     0,  22*L,   0,  4*L**2,       0],\n",
    "        [  0, -13*L,       0,   0,       0, -3*L**2,   0, -22*L,     0,   0,       0,  4*L**2]])"
   ]
  },
  {
   "cell_type": "code",
   "execution_count": 25,
   "metadata": {},
   "outputs": [],
   "source": [
    "def Kmat3D(L=1, A=1, E=1, Iy=1, Iz=1, GJ=1):\n",
    "    a1 = E * A / L\n",
    "    b1 = 12 * E * Iz / L**3\n",
    "    b2 = 6 * E * Iz / L**2\n",
    "    b3 = 4 * E * Iz / L\n",
    "    b4 = 2 * E * Iz / L\n",
    "    \n",
    "    c1 = 12 * E * Iy / L**3\n",
    "    c2 = 6 * E * Iy / L**2\n",
    "    c3 = 4 * E * Iy / L\n",
    "    c4 = 2 * E * Iy / L\n",
    "    \n",
    "    d1 = GJ / L\n",
    "    \n",
    "    return np.matrix([\n",
    "        [  a1,   0,   0,   0,   0,   0, -a1,   0,   0,   0,   0,   0],\n",
    "        [   0,  b1,   0,   0,   0,  b2,   0, -b1,   0,   0,   0,  b2],\n",
    "        [   0,   0,  c1,   0, -c2,   0,   0,   0, -c1,   0, -c2,   0],\n",
    "        [   0,   0,   0,  d1,   0,   0,   0,   0,   0, -d1,   0,   0],\n",
    "        [   0,   0, -c2,   0,  c3,   0,   0,   0,  c2,   0,  c4,   0],\n",
    "        [   0,  b2,   0,   0,   0,  b3,   0, -b2,   0,   0,   0,  b4],\n",
    "        [ -a1,   0,   0,   0,   0,   0,  a1,   0,   0,   0,   0,   0],\n",
    "        [   0, -b1,   0,   0,   0, -b2,   0,  b1,   0,   0,   0, -b2],\n",
    "        [   0,   0, -c1,   0,  c2,   0,   0,   0,  c1,   0,  c2,   0],\n",
    "        [   0,   0,   0, -d1,   0,   0,   0,   0,   0,  d1,   0,   0],\n",
    "        [   0,   0, -c2,   0,  c4,   0,   0,   0,  c2,   0,  c3,   0],\n",
    "        [   0,  b2,   0,   0,   0,  b4,   0, -b2,   0,   0,   0,  b3]])\n"
   ]
  },
  {
   "cell_type": "code",
   "execution_count": 26,
   "metadata": {},
   "outputs": [],
   "source": [
    "if el_type == pyaka._bernoulli_beam_2:\n",
    "    kmat1 = Kmat2D(E=mat1.E, A=mat1.A, I=mat1.I, L=length)\n",
    "    mmat1 = Mmat2D(A=mat1.A, L=length, rho=mat1.rho)\n",
    "    nb_dofs = 3\n",
    "else:\n",
    "    kmat1 = Kmat3D(E=mat1.E, A=mat1.A,\n",
    "                   Iy=mat1.Iy, Iz=mat1.Iz,\n",
    "                   GJ=mat1.GJ, L=length)\n",
    "    mmat1 = Mmat3D(A=mat1.A, L=length, rho=mat1.rho)\n",
    "    nb_dofs = 6"
   ]
  },
  {
   "cell_type": "code",
   "execution_count": 27,
   "metadata": {},
   "outputs": [],
   "source": [
    "def assemble(Mg, Me, n1, n2, nd):\n",
    "    s1 = n1 * nd\n",
    "    s2 = n2 * nd\n",
    "    \n",
    "    Mg[s1:s1+nd, s1:s1+nd] += Me[ 0:nd  ,  0:nd  ]\n",
    "    Mg[s2:s2+nd, s2:s2+nd] += Me[nd:2*nd, nd:2*nd]\n",
    "    Mg[s1:s1+nd, s2:s2+nd] += Me[ 0:nd  , nd:2*nd]\n",
    "    Mg[s2:s2+nd, s1:s1+nd] += Me[nd:2*nd,  0:nd  ]"
   ]
  },
  {
   "cell_type": "code",
   "execution_count": 28,
   "metadata": {},
   "outputs": [],
   "source": [
    "total_nb_dofs = nb_dofs * (nb_elem + 1)\n",
    "\n",
    "Ka = np.zeros((total_nb_dofs, total_nb_dofs))\n",
    "Ma = np.zeros((total_nb_dofs, total_nb_dofs))\n",
    "\n",
    "for e in range(nb_elem):\n",
    "    n1, n2 = Conn[e, :]\n",
    "    \n",
    "    assemble(Ka, kmat1, n1, n2, nb_dofs)\n",
    "    assemble(Ma, mmat1, n1, n2, nb_dofs)\n"
   ]
  },
  {
   "cell_type": "code",
   "execution_count": 29,
   "metadata": {},
   "outputs": [
    {
     "name": "stdout",
     "output_type": "stream",
     "text": [
      "3.2757195579646225e-15\n",
      "9.075211880647167e-16\n"
     ]
    }
   ],
   "source": [
    "print(np.linalg.norm(Ka - K.todense())/np.linalg.norm(Ka))\n",
    "print(np.linalg.norm(Ma - M.todense())/np.linalg.norm(Ma))"
   ]
  },
  {
   "cell_type": "code",
   "execution_count": 30,
   "metadata": {},
   "outputs": [],
   "source": [
    "def analytical_solution(time, L, rho, E, A, I, F):\n",
    "    omega = np.pi**2 / L**2 * np.sqrt(E * I / rho)\n",
    "    sum = 0.\n",
    "    N = 110\n",
    "    for n in range(1, N, 2):\n",
    "        sum += (1. - np.cos(n * n * omega * time)) / n**4\n",
    "\n",
    "    return 2. * F * L**3 / np.pi**4 / E / I * sum"
   ]
  },
  {
   "cell_type": "code",
   "execution_count": 31,
   "metadata": {},
   "outputs": [],
   "source": [
    "# Perform N time steps.\n",
    "#  At each step records the displacement of all three nodes in x direction.\n",
    "N = 900\n",
    "\n",
    "disp = model.getDisplacement()\n",
    "velo = model.getVelocity()\n",
    "disp[:, :] = 0.\n",
    "\n",
    "displs = np.zeros(N)\n",
    "\n",
    "ekin = np.zeros(N)\n",
    "epot = np.zeros(N)\n",
    "ework = np.zeros(N)\n",
    "_ework = 0.\n",
    "\n",
    "\n",
    "\n",
    "for i in range(1, N):\n",
    "    model.solveStep()  \n",
    "    displs[i] = disp[no_print, 1]\n",
    "    \n",
    "    _ework += F * velo[no_print, 1] * deltaT\n",
    "    \n",
    "    ekin[i] = model.getEnergy(\"kinetic\")\n",
    "    epot[i] = model.getEnergy(\"potential\")\n",
    "    ework[i] = _ework\n",
    "    \n"
   ]
  },
  {
   "cell_type": "code",
   "execution_count": 32,
   "metadata": {},
   "outputs": [
    {
     "data": {
      "text/plain": [
       "[<matplotlib.lines.Line2D at 0x7f9b9431d8b0>]"
      ]
     },
     "execution_count": 32,
     "metadata": {},
     "output_type": "execute_result"
    },
    {
     "data": {
      "image/png": "[encoded data removed]",
      "text/plain": [
       "<Figure size 432x288 with 1 Axes>"
      ]
     },
     "metadata": {
      "needs_background": "light"
     },
     "output_type": "display_data"
    }
   ],
   "source": [
    "def sol(x):\n",
    "    return analytical_solution(x, L, mat1.rho, mat1.E,\n",
    "                              mat1.A, mat1.I, F)\n",
    "\n",
    "times = np.arange(N) * deltaT\n",
    "plt.plot(times, sol(times))\n",
    "plt.plot(times, displs)"
   ]
  },
  {
   "cell_type": "code",
   "execution_count": 33,
   "metadata": {},
   "outputs": [
    {
     "data": {
      "text/plain": [
       "[<matplotlib.lines.Line2D at 0x7f9b94275310>]"
      ]
     },
     "execution_count": 33,
     "metadata": {},
     "output_type": "execute_result"
    },
    {
     "data": {
      "image/png": "[encoded data removed]",
      "text/plain": [
       "<Figure size 432x288 with 1 Axes>"
      ]
     },
     "metadata": {
      "needs_background": "light"
     },
     "output_type": "display_data"
    }
   ],
   "source": [
    "plt.plot(times, displs - sol(times))"
   ]
  },
  {
   "cell_type": "markdown",
   "metadata": {},
   "source": [
    "What I do not fully understand is why the middle node first go backwards until it goes forward.\n",
    "I could imagine that there is some vibration, because everything is in rest."
   ]
  },
  {
   "cell_type": "code",
   "execution_count": 34,
   "metadata": {},
   "outputs": [
    {
     "data": {
      "text/plain": [
       "1.5108795139938372e-06"
      ]
     },
     "execution_count": 34,
     "metadata": {},
     "output_type": "execute_result"
    }
   ],
   "source": [
    "np.max(displs - sol(times)) "
   ]
  },
  {
   "cell_type": "code",
   "execution_count": 35,
   "metadata": {},
   "outputs": [
    {
     "data": {
      "text/plain": [
       "[<matplotlib.lines.Line2D at 0x7f9b9424fa60>]"
      ]
     },
     "execution_count": 35,
     "metadata": {},
     "output_type": "execute_result"
    },
    {
     "data": {
      "image/png": "[encoded data removed]",
      "text/plain": [
       "<Figure size 432x288 with 1 Axes>"
      ]
     },
     "metadata": {
      "needs_background": "light"
     },
     "output_type": "display_data"
    }
   ],
   "source": [
    "plt.plot(times, ekin+epot)\n",
    "plt.plot(times, ework)"
   ]
  },
  {
   "cell_type": "code",
   "execution_count": null,
   "metadata": {},
   "outputs": [],
   "source": []
  }
 ],
 "metadata": {
  "kernelspec": {
   "display_name": "Python 3",
   "language": "python",
   "name": "python3"
  },
  "language_info": {
   "codemirror_mode": {
    "name": "ipython",
    "version": 3
   },
   "file_extension": ".py",
   "mimetype": "text/x-python",
   "name": "python",
   "nbconvert_exporter": "python",
   "pygments_lexer": "ipython3",
   "version": "3.9.1+"
  }
 },
 "nbformat": 4,
 "nbformat_minor": 4
}

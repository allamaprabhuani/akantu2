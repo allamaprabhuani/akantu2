{
 "cells": [
  {
   "cell_type": "markdown",
   "metadata": {},
   "source": [
    "# Test of Structural Mechanics (3D)\n",
    "This notebook is based on the `test2`, in fact it is the same as that, however this time it is done in 3D.\n"
   ]
  },
  {
   "cell_type": "code",
   "execution_count": 1,
   "metadata": {},
   "outputs": [
    {
     "name": "stdout",
     "output_type": "stream",
     "text": [
      "Error importing pyakantu, try the other one\n"
     ]
    }
   ],
   "source": [
    "try:\n",
    "    import pyakantu as pyaka\n",
    "except:\n",
    "    print(\"Error importing pyakantu, try the other one\")\n",
    "    import py11_akantu as pyaka\n",
    "    \n",
    "import copy\n",
    "import numpy"
   ]
  },
  {
   "cell_type": "code",
   "execution_count": 2,
   "metadata": {},
   "outputs": [],
   "source": [
    "import matplotlib\n",
    "import matplotlib.pyplot as plt\n",
    "import numpy as np"
   ]
  },
  {
   "cell_type": "markdown",
   "metadata": {},
   "source": [
    "### Creating the Mesh"
   ]
  },
  {
   "cell_type": "code",
   "execution_count": 3,
   "metadata": {},
   "outputs": [],
   "source": [
    "# Create a mesh for the 2 dimensional case\n",
    "beam = pyaka.Mesh(3)"
   ]
  },
  {
   "cell_type": "markdown",
   "metadata": {},
   "source": [
    "We now create the connectivity array for the beam."
   ]
  },
  {
   "cell_type": "code",
   "execution_count": 4,
   "metadata": {},
   "outputs": [],
   "source": [
    "beam.addConnectivityType(pyaka._bernoulli_beam_3)"
   ]
  },
  {
   "cell_type": "markdown",
   "metadata": {},
   "source": [
    "We need a `MeshAccessor` in order to change the size of the mesh entities."
   ]
  },
  {
   "cell_type": "code",
   "execution_count": 5,
   "metadata": {},
   "outputs": [],
   "source": [
    "beamAcc = pyaka.MeshAccessor(beam)"
   ]
  },
  {
   "cell_type": "markdown",
   "metadata": {},
   "source": [
    "Now we create the array to store the nodes and the connectivities and give them their size. "
   ]
  },
  {
   "cell_type": "code",
   "execution_count": 6,
   "metadata": {},
   "outputs": [],
   "source": [
    "beamAcc.resizeConnectivity(3, pyaka._bernoulli_beam_3)\n",
    "beamAcc.resizeNodes(4)"
   ]
  },
  {
   "cell_type": "markdown",
   "metadata": {},
   "source": [
    "#### Setting the Nodes"
   ]
  },
  {
   "cell_type": "code",
   "execution_count": 7,
   "metadata": {},
   "outputs": [],
   "source": [
    "Nodes = beam.getNodes()\n",
    "Nodes[0, :] = [0., 0., 0.]\n",
    "Nodes[1, :] = [1., 0., 0.]\n",
    "Nodes[2, :] = [2., 0., 0.]\n",
    "Nodes[3, :] = [3., 0., 0.]"
   ]
  },
  {
   "cell_type": "markdown",
   "metadata": {},
   "source": [
    "#### Setting the Connections"
   ]
  },
  {
   "cell_type": "code",
   "execution_count": 8,
   "metadata": {},
   "outputs": [],
   "source": [
    "Conn = beam.getConnectivity(pyaka._bernoulli_beam_3)\n",
    "Conn[0, :] = [0, 1]\n",
    "Conn[1, :] = [1, 2]\n",
    "Conn[2, :] = [2, 3]"
   ]
  },
  {
   "cell_type": "markdown",
   "metadata": {},
   "source": [
    "#### Ready\n",
    "We have to make the mesh ready."
   ]
  },
  {
   "cell_type": "code",
   "execution_count": 9,
   "metadata": {},
   "outputs": [],
   "source": [
    "beamAcc.makeReady()"
   ]
  },
  {
   "cell_type": "code",
   "execution_count": null,
   "metadata": {},
   "outputs": [],
   "source": []
  },
  {
   "cell_type": "markdown",
   "metadata": {},
   "source": [
    "#### Setting the Extra Normals"
   ]
  },
  {
   "cell_type": "markdown",
   "metadata": {},
   "source": [
    "We first test if the extra normals are here, however we expect them to be missing."
   ]
  },
  {
   "cell_type": "code",
   "execution_count": 10,
   "metadata": {},
   "outputs": [
    {
     "name": "stdout",
     "output_type": "stream",
     "text": [
      "As we have expected the 'extra_normal' are not present.\n"
     ]
    }
   ],
   "source": [
    "if(beam.hasExtraNormal(pyaka._bernoulli_beam_3)):\n",
    "    print(\"The 'extra_normal' are pressent, which is kind of strange\")\n",
    "else:\n",
    "    print(\"As we have expected the 'extra_normal' are not present.\")"
   ]
  },
  {
   "cell_type": "markdown",
   "metadata": {},
   "source": [
    " We will now create them, fpr the Bernoulli Beam in 3 dimensions.\n",
    " Note that they are only needed in three dimensions and not if the problem is in two dimensions."
   ]
  },
  {
   "cell_type": "code",
   "execution_count": 11,
   "metadata": {},
   "outputs": [],
   "source": [
    "eNorm = beam.makeExtraNormal(pyaka._bernoulli_beam_3)"
   ]
  },
  {
   "cell_type": "markdown",
   "metadata": {},
   "source": [
    "Now setting the extra normals.\n",
    "\n",
    "The format of the normals are a bit special.\n",
    "Each element need one to compute a basis at its tip.\n",
    "Thus the requirement is, that during the computation the `extra_normal`, that is associated to an element, must never become parallel to the connection vector connecting the two nodes marking the ends of the element.\n",
    "\n",
    "Thus using the vector $\\vec{n} = \\left(1.0,\\, 0.0,\\, 0.0\\right)$, is an error, since it is parallel to the connection vector.\n",
    "Another choice would be $\\vec{n} = \\left(0.0,\\, 0.0,\\, 1.0\\right)$ or any other.\n"
   ]
  },
  {
   "cell_type": "code",
   "execution_count": 12,
   "metadata": {},
   "outputs": [],
   "source": [
    "for i in range(eNorm.shape[0]):\n",
    "    eNorm[i, :] = [0.0, 0.0, 1.0]"
   ]
  },
  {
   "cell_type": "code",
   "execution_count": 13,
   "metadata": {},
   "outputs": [
    {
     "data": {
      "text/plain": [
       "array([[0., 0., 1.],\n",
       "       [0., 0., 1.],\n",
       "       [0., 0., 1.]])"
      ]
     },
     "execution_count": 13,
     "metadata": {},
     "output_type": "execute_result"
    }
   ],
   "source": [
    "beam.makeExtraNormal(pyaka._bernoulli_beam_3)"
   ]
  },
  {
   "cell_type": "code",
   "execution_count": null,
   "metadata": {},
   "outputs": [],
   "source": []
  },
  {
   "cell_type": "markdown",
   "metadata": {},
   "source": [
    "### Creating the Model"
   ]
  },
  {
   "cell_type": "code",
   "execution_count": 14,
   "metadata": {},
   "outputs": [],
   "source": [
    "model = pyaka.StructuralMechanicsModel(beam)"
   ]
  },
  {
   "cell_type": "markdown",
   "metadata": {},
   "source": [
    "#### Setting up the Modell"
   ]
  },
  {
   "cell_type": "markdown",
   "metadata": {},
   "source": [
    "##### Creating and Inserting the Materials"
   ]
  },
  {
   "cell_type": "code",
   "execution_count": 15,
   "metadata": {},
   "outputs": [],
   "source": [
    "mat1 = pyaka.StructuralMaterial()\n",
    "mat1.E = 1e9\n",
    "mat1.rho = 1.\n",
    "mat1.I = 1.\n",
    "mat1.Iz = 1.\n",
    "mat1.Iy = 1.\n",
    "mat1.A = 1.\n",
    "mat1.GJ = 1.\n",
    "mat1ID = model.addMaterial(mat1)"
   ]
  },
  {
   "cell_type": "code",
   "execution_count": 16,
   "metadata": {},
   "outputs": [],
   "source": [
    "mat2 = pyaka.StructuralMaterial()\n",
    "mat2.E = 1e9\n",
    "mat2.rho = 1.\n",
    "mat2.I = 1.\n",
    "mat2.Iz = 1.\n",
    "mat2.Iy = 1.\n",
    "mat2.A = 1.\n",
    "mat2.GJ = 1.\n",
    "mat2ID = model.addMaterial(mat2)"
   ]
  },
  {
   "cell_type": "code",
   "execution_count": 17,
   "metadata": {},
   "outputs": [],
   "source": [
    "mat3 = pyaka.StructuralMaterial()\n",
    "mat3.E = mat2.E / 100000\n",
    "mat3.rho = 1.\n",
    "mat3.I = 1.\n",
    "mat3.Iz = 1.\n",
    "mat3.Iy = 1.\n",
    "mat3.A = mat2.A / 100\n",
    "mat3.GJ = 1.\n",
    "mat3ID = model.addMaterial(mat3)"
   ]
  },
  {
   "cell_type": "markdown",
   "metadata": {},
   "source": [
    "##### Initializing the Model"
   ]
  },
  {
   "cell_type": "code",
   "execution_count": 18,
   "metadata": {},
   "outputs": [],
   "source": [
    "model.initFull(pyaka.AnalysisMethod._implicit_dynamic)"
   ]
  },
  {
   "cell_type": "markdown",
   "metadata": {},
   "source": [
    "##### Assigning the Materials"
   ]
  },
  {
   "cell_type": "code",
   "execution_count": 19,
   "metadata": {},
   "outputs": [],
   "source": [
    "materials = model.getElementMaterialMap(pyaka.ElementType._bernoulli_beam_3)"
   ]
  },
  {
   "cell_type": "code",
   "execution_count": 20,
   "metadata": {},
   "outputs": [],
   "source": [
    "materials[0][0] = mat2ID\n",
    "materials[1][0] = mat2ID\n",
    "materials[2][0] = mat2ID"
   ]
  },
  {
   "cell_type": "markdown",
   "metadata": {},
   "source": [
    "##### Setting Boundaries"
   ]
  },
  {
   "cell_type": "code",
   "execution_count": 21,
   "metadata": {},
   "outputs": [],
   "source": [
    "# Neumann\n",
    "#  Apply a force of `10` at the last (right most) node.\n",
    "forces = model.getExternalForce()\n",
    "forces[:] = 0\n",
    "forces[2, 0] = 100."
   ]
  },
  {
   "cell_type": "code",
   "execution_count": 22,
   "metadata": {},
   "outputs": [],
   "source": [
    "# Dirichlets\n",
    "# Block all dofs of the first node, since it is fixed.\n",
    "#  All other nodes have no restrictions\n",
    "boundary = model.getBlockedDOFs()\n",
    "boundary[0, :] = True\n",
    "boundary[1, :] = False\n",
    "boundary[2, :] = False\n",
    "boundary[3, :] = False\n",
    "#boundary[2, 0] = True"
   ]
  },
  {
   "cell_type": "markdown",
   "metadata": {},
   "source": [
    "### Solving the System"
   ]
  },
  {
   "cell_type": "code",
   "execution_count": 23,
   "metadata": {},
   "outputs": [],
   "source": [
    "# Set up the system\n",
    "deltaT = 1e-9\n",
    "model.setTimeStep(deltaT)\n",
    "solver = model.getNonLinearSolver()\n",
    "solver.set(\"max_iterations\", 100)\n",
    "solver.set(\"threshold\", 1e-8)\n",
    "solver.set(\"convergence_type\", pyaka.SolveConvergenceCriteria.solution)"
   ]
  },
  {
   "cell_type": "code",
   "execution_count": 24,
   "metadata": {},
   "outputs": [],
   "source": [
    "# Perform N time steps.\n",
    "#  At each step records the displacement of all three nodes in x direction.\n",
    "N = 10000 * 60\n",
    "\n",
    "disp0 = np.zeros(N)\n",
    "disp1 = np.zeros(N)\n",
    "disp2 = np.zeros(N)\n",
    "disp3 = np.zeros(N)\n",
    "times = np.zeros(N)\n",
    "switchT = None\n",
    "switchEnd = None\n",
    "\n",
    "softDuration = 1000\n",
    "SoftStart = (N // 2) - softDuration // 2\n",
    "SoftEnd = SoftStart + softDuration\n",
    "if(softDuration > 0):\n",
    "    softFactor = (model.getMaterialByID(mat3ID).E / model.getMaterialByID(mat2ID).E ) ** (1.0 / softDuration)\n",
    "\n",
    "\n",
    "\n",
    "for i in range(N):\n",
    "    times[i] = deltaT * i\n",
    "    \n",
    "    if((SoftStart <= i <= SoftEnd) and (softDuration > 0)):\n",
    "        if switchT is None:\n",
    "            switchT = times[i]\n",
    "        elif(i == SoftEnd):\n",
    "            switchEnd = times[i]\n",
    "        #\n",
    "        mat2.E *= softFactor\n",
    "        newMat = model.addMaterial(mat2)\n",
    "        materials[1][0] = newMat\n",
    "    #\n",
    "    \n",
    "    model.solveStep()\n",
    "    disp = model.getDisplacement()\n",
    "    disp0[i] = disp[0, 0]\n",
    "    disp1[i] = disp[1, 0]\n",
    "    disp2[i] = disp[2, 0]\n",
    "    disp3[i] = disp[3, 0]\n",
    "\n",
    "disps = [disp0, disp1, disp2, disp3]\n",
    "maxMin = [-1.0, 1.0]\n",
    "\n",
    "for d in disps:\n",
    "    maxMin[0] = max(np.max(d), maxMin[0])\n",
    "    maxMin[1] = min(np.min(d), maxMin[1])"
   ]
  },
  {
   "cell_type": "code",
   "execution_count": 25,
   "metadata": {},
   "outputs": [
    {
     "data": {
      "image/png": "[encoded data removed]",
      "text/plain": [
       "<Figure size 432x288 with 1 Axes>"
      ]
     },
     "metadata": {
      "needs_background": "light"
     },
     "output_type": "display_data"
    }
   ],
   "source": [
    "#plt.plot(disp0, times, color='k', label = \"left node (fix)\")\n",
    "plt.plot(disp1, times, color='g', label = \"middle, left node\")\n",
    "plt.plot(disp2, times, color='g', linestyle = '--', label = \"middle, right node\")\n",
    "plt.plot(disp3, times, color='b', label = \"right node\")\n",
    "\n",
    "if(softDuration > 0):\n",
    "    plt.plot((maxMin[1], maxMin[0]), (switchT, switchT),)\n",
    "    plt.plot((maxMin[1], maxMin[0]), (switchEnd, switchEnd), )\n",
    "\n",
    "plt.title(\"Displacement in $x$ of the nodes\")\n",
    "plt.ylabel(\"Time [S]\")\n",
    "plt.xlabel(\"displacement [m]\")\n",
    "\n",
    "plt.xlim((maxMin[1] * 1.3, maxMin[0] * 1.1))\n",
    "\n",
    "plt.legend()\n",
    "\n",
    "plt.show()"
   ]
  },
  {
   "cell_type": "markdown",
   "metadata": {},
   "source": [
    "If the softening is disabled, then the displacement looks wierd.\n",
    "Because the displacement first increases and then decreases.\n",
    "In this case `softDuration > 0` holds.\n",
    "\n",
    "However if the softening is enabled, it looks rather good.\n",
    "The left middle node will start to vibrate, because it is not pulled in the other direction.\n",
    "\n",
    "\n"
   ]
  }
 ],
 "metadata": {
  "kernelspec": {
   "display_name": "Python 3",
   "language": "python",
   "name": "python3"
  },
  "language_info": {
   "codemirror_mode": {
    "name": "ipython",
    "version": 3
   },
   "file_extension": ".py",
   "mimetype": "text/x-python",
   "name": "python",
   "nbconvert_exporter": "python",
   "pygments_lexer": "ipython3",
   "version": "3.9.1"
  }
 },
 "nbformat": 4,
 "nbformat_minor": 4
}

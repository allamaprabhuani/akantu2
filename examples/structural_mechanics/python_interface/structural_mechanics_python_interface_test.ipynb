{
 "cells": [
  {
   "cell_type": "markdown",
   "metadata": {},
   "source": [
    "# Test of Structural Mechanics\n",
    "We will now test the python interface of teh structural mechanics part.\n",
    "For that we will use the test `test/test_model/test_structural_mechanics_model/test_structural_mechanics_model_bernoulli_beam_2.cc`, which we will simply reproduce.\n"
   ]
  },
  {
   "cell_type": "code",
   "execution_count": 1,
   "metadata": {},
   "outputs": [
    {
     "name": "stdout",
     "output_type": "stream",
     "text": [
      "Error importing pyakantu, try the other one\n"
     ]
    }
   ],
   "source": [
    "try:\n",
    "    import pyakantu as pyaka\n",
    "except:\n",
    "    print(\"Error importing pyakantu, try the other one\")\n",
    "    import py11_akantu as pyaka\n",
    "    \n",
    "import copy\n",
    "import numpy"
   ]
  },
  {
   "cell_type": "code",
   "execution_count": 2,
   "metadata": {},
   "outputs": [],
   "source": [
    "import matplotlib\n",
    "import matplotlib.pyplot as plt\n",
    "import numpy as np"
   ]
  },
  {
   "cell_type": "markdown",
   "metadata": {},
   "source": [
    "### Creating the Mesh"
   ]
  },
  {
   "cell_type": "code",
   "execution_count": 3,
   "metadata": {},
   "outputs": [],
   "source": [
    "# Create a mesh for the two dimensional case\n",
    "beam = pyaka.Mesh(2)"
   ]
  },
  {
   "cell_type": "markdown",
   "metadata": {},
   "source": [
    "We now create the connectivity array for the beam."
   ]
  },
  {
   "cell_type": "code",
   "execution_count": 4,
   "metadata": {},
   "outputs": [],
   "source": [
    "beam.addConnectivityType(pyaka._bernoulli_beam_2)"
   ]
  },
  {
   "cell_type": "markdown",
   "metadata": {},
   "source": [
    "We need a `MeshAccessor` in order to change the size of the mesh entities."
   ]
  },
  {
   "cell_type": "code",
   "execution_count": 5,
   "metadata": {},
   "outputs": [],
   "source": [
    "beamAcc = pyaka.MeshAccessor(beam)"
   ]
  },
  {
   "cell_type": "markdown",
   "metadata": {},
   "source": [
    "Now we create the array to store the nodes and the connectivities and give them their size. "
   ]
  },
  {
   "cell_type": "code",
   "execution_count": 6,
   "metadata": {},
   "outputs": [],
   "source": [
    "beamAcc.resizeConnectivity(2, pyaka._bernoulli_beam_2)\n",
    "beamAcc.resizeNodes(3)"
   ]
  },
  {
   "cell_type": "markdown",
   "metadata": {},
   "source": [
    "#### Setting the Nodes"
   ]
  },
  {
   "cell_type": "code",
   "execution_count": 7,
   "metadata": {},
   "outputs": [],
   "source": [
    "Nodes = beam.getNodes()\n",
    "Nodes[0, :] = [0., 0.]\n",
    "Nodes[1, :] = [1., 0.]\n",
    "Nodes[2, :] = [2., 0.]"
   ]
  },
  {
   "cell_type": "markdown",
   "metadata": {},
   "source": [
    "#### Setting the Connections"
   ]
  },
  {
   "cell_type": "code",
   "execution_count": 8,
   "metadata": {},
   "outputs": [],
   "source": [
    "Conn = beam.getConnectivity(pyaka._bernoulli_beam_2)\n",
    "Conn[0, :] = [0, 1]\n",
    "Conn[1, :] = [1, 2]"
   ]
  },
  {
   "cell_type": "code",
   "execution_count": null,
   "metadata": {},
   "outputs": [],
   "source": []
  },
  {
   "cell_type": "markdown",
   "metadata": {},
   "source": [
    "#### Ready\n",
    "We have to make the mesh ready."
   ]
  },
  {
   "cell_type": "code",
   "execution_count": 9,
   "metadata": {},
   "outputs": [],
   "source": [
    "beamAcc.makeReady()"
   ]
  },
  {
   "cell_type": "markdown",
   "metadata": {},
   "source": [
    "### Creating the Model"
   ]
  },
  {
   "cell_type": "code",
   "execution_count": 10,
   "metadata": {},
   "outputs": [],
   "source": [
    "model = pyaka.StructuralMechanicsModel(beam)"
   ]
  },
  {
   "cell_type": "markdown",
   "metadata": {},
   "source": [
    "#### Setting up the Modell"
   ]
  },
  {
   "cell_type": "markdown",
   "metadata": {},
   "source": [
    "##### Creating and Inserting the Materials"
   ]
  },
  {
   "cell_type": "code",
   "execution_count": 11,
   "metadata": {},
   "outputs": [
    {
     "data": {
      "text/plain": [
       "0"
      ]
     },
     "execution_count": 11,
     "metadata": {},
     "output_type": "execute_result"
    }
   ],
   "source": [
    "mat1 = pyaka.StructuralMaterial()\n",
    "mat1.E = 1e9\n",
    "mat1.rho = 1.\n",
    "mat1.I = 1.\n",
    "mat1.Iz = 1.\n",
    "mat1.Iy = 1.\n",
    "mat1.A = 1.\n",
    "mat1.GJ = 1.\n",
    "model.addMaterial(mat1)"
   ]
  },
  {
   "cell_type": "code",
   "execution_count": 12,
   "metadata": {},
   "outputs": [
    {
     "data": {
      "text/plain": [
       "1"
      ]
     },
     "execution_count": 12,
     "metadata": {},
     "output_type": "execute_result"
    }
   ],
   "source": [
    "mat2 = pyaka.StructuralMaterial()\n",
    "mat2.E = 1e9\n",
    "mat2.rho = 1.\n",
    "mat2.I = 1.\n",
    "mat2.Iz = 1.\n",
    "mat2.Iy = 1.\n",
    "mat2.A = 1.\n",
    "mat2.GJ = 1.\n",
    "model.addMaterial(mat2)"
   ]
  },
  {
   "cell_type": "markdown",
   "metadata": {},
   "source": [
    "##### Initializing the Model"
   ]
  },
  {
   "cell_type": "code",
   "execution_count": 13,
   "metadata": {},
   "outputs": [],
   "source": [
    "model.initFull(pyaka.AnalysisMethod._implicit_dynamic)"
   ]
  },
  {
   "cell_type": "markdown",
   "metadata": {},
   "source": [
    "##### Assigning the Materials"
   ]
  },
  {
   "cell_type": "code",
   "execution_count": 14,
   "metadata": {},
   "outputs": [],
   "source": [
    "materials = model.getElementMaterialMap(pyaka.ElementType._bernoulli_beam_2)"
   ]
  },
  {
   "cell_type": "code",
   "execution_count": 15,
   "metadata": {},
   "outputs": [],
   "source": [
    "materials[0][0] = 0\n",
    "materials[1][0] = 1"
   ]
  },
  {
   "cell_type": "markdown",
   "metadata": {},
   "source": [
    "##### Setting Boundaries"
   ]
  },
  {
   "cell_type": "code",
   "execution_count": 16,
   "metadata": {},
   "outputs": [],
   "source": [
    "# Neumann\n",
    "#  Apply a force of `10` at the last (right most) node.\n",
    "forces = model.getExternalForce()\n",
    "forces[:] = 0\n",
    "forces[2, 0] = 10."
   ]
  },
  {
   "cell_type": "code",
   "execution_count": 17,
   "metadata": {},
   "outputs": [],
   "source": [
    "# Dirichlets\n",
    "# Block all dofs of the first node, since it is fixed.\n",
    "#  All other nodes have no restrictions\n",
    "boundary = model.getBlockedDOFs()\n",
    "boundary[0, :] = True\n",
    "boundary[1, :] = False\n",
    "boundary[2, :] = False\n",
    "#boundary[2, 0] = True"
   ]
  },
  {
   "cell_type": "markdown",
   "metadata": {},
   "source": [
    "### Solving the System"
   ]
  },
  {
   "cell_type": "code",
   "execution_count": 18,
   "metadata": {},
   "outputs": [],
   "source": [
    "# Set up the system\n",
    "deltaT = 1e-10\n",
    "model.setTimeStep(deltaT)\n",
    "solver = model.getNonLinearSolver()\n",
    "solver.set(\"max_iterations\", 100)\n",
    "solver.set(\"threshold\", 1e-8)\n",
    "solver.set(\"convergence_type\", pyaka.SolveConvergenceCriteria.solution)"
   ]
  },
  {
   "cell_type": "code",
   "execution_count": 19,
   "metadata": {},
   "outputs": [],
   "source": [
    "# Perform N time steps.\n",
    "#  At each step records the displacement of all three nodes in x direction.\n",
    "N = 10000 \n",
    "disp1 = np.zeros(N)\n",
    "disp2 = np.zeros(N)\n",
    "disp0 = np.zeros(N)\n",
    "times = np.zeros(N)\n",
    "\n",
    "for i in range(N):\n",
    "    model.solveStep()\n",
    "    disp = model.getDisplacement()\n",
    "    disp0[i] = disp[0, 0]\n",
    "    disp1[i] = disp[1, 0]\n",
    "    disp2[i] = disp[2, 0]\n",
    "    times[i] = deltaT * i"
   ]
  },
  {
   "cell_type": "code",
   "execution_count": 20,
   "metadata": {},
   "outputs": [
    {
     "data": {
      "image/png": "[encoded data removed]",
      "text/plain": [
       "<Figure size 432x288 with 1 Axes>"
      ]
     },
     "metadata": {
      "needs_background": "light"
     },
     "output_type": "display_data"
    }
   ],
   "source": [
    "plt.plot(times, disp0, color='k', label = \"left node (fix)\")\n",
    "plt.plot(times, disp1, color='g', label = \"middle node\")\n",
    "plt.plot(times, disp2, color='b', label = \"right node\")\n",
    "\n",
    "plt.title(\"Displacement in $x$ of the nodes\")\n",
    "plt.xlabel(\"Time [S]\")\n",
    "plt.ylabel(\"displacement [m]\")\n",
    "\n",
    "plt.legend()\n",
    "\n",
    "plt.show()"
   ]
  },
  {
   "cell_type": "markdown",
   "metadata": {},
   "source": [
    "What I do not understand is, why the middle node goes backwards?\n",
    "This gopuld be the bug.\n",
    "However an analytical solution must be claculated.\n",
    "\n",
    "I also think that the influence of the Young's modulus is not clearly visiable.\n",
    "But I saw the influence of the density."
   ]
  },
  {
   "cell_type": "code",
   "execution_count": null,
   "metadata": {},
   "outputs": [],
   "source": []
  },
  {
   "cell_type": "code",
   "execution_count": null,
   "metadata": {},
   "outputs": [],
   "source": []
  },
  {
   "cell_type": "markdown",
   "metadata": {},
   "source": [
    "# "
   ]
  }
 ],
 "metadata": {
  "kernelspec": {
   "display_name": "Python 3",
   "language": "python",
   "name": "python3"
  },
  "language_info": {
   "codemirror_mode": {
    "name": "ipython",
    "version": 3
   },
   "file_extension": ".py",
   "mimetype": "text/x-python",
   "name": "python",
   "nbconvert_exporter": "python",
   "pygments_lexer": "ipython3",
   "version": "3.9.1"
  }
 },
 "nbformat": 4,
 "nbformat_minor": 4
}

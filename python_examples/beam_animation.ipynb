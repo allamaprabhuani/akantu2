{
 "metadata": {
  "name": ""
 },
 "nbformat": 3,
 "nbformat_minor": 0,
 "worksheets": [
  {
   "cells": [
    {
     "cell_type": "code",
     "collapsed": false,
     "input": [
      "import akantu as aka\n",
      "import numpy as np\n",
      "import matplotlib.pyplot as plt\n",
      "import matplotlib.animation as animation\n"
     ],
     "language": "python",
     "metadata": {},
     "outputs": []
    },
    {
     "cell_type": "code",
     "collapsed": false,
     "input": [
      "spatial_dimension = 2;\n",
      "nb_elements = 50;\n",
      "nb_nodes = nb_elements+1;\n",
      "total_length = 10.\n",
      "length = total_length/float(nb_elements)\n",
      "height = 1.\n",
      "\n",
      "F = 5e5\n",
      "time_step = 5e-4\n",
      "nb_steps = 5000"
     ],
     "language": "python",
     "metadata": {},
     "outputs": []
    },
    {
     "cell_type": "code",
     "collapsed": false,
     "input": [
      "aka.initialize()\n",
      "beams = aka.Mesh(spatial_dimension)\n",
      "beams.resizeMesh(nb_nodes, nb_elements, aka._bernoulli_beam_2)\n",
      "nodes =  beams.getNodes()\n",
      "connectivity = beams.getConnectivity(aka._bernoulli_beam_2)"
     ],
     "language": "python",
     "metadata": {},
     "outputs": []
    },
    {
     "cell_type": "code",
     "collapsed": false,
     "input": [
      "for i in range(0,nb_nodes):\n",
      "    nodes[i,0] = i*length \n",
      "    nodes[i,1] = 0\n",
      "for e in range(0,nb_elements):\n",
      "    for i in range(0,2):\n",
      "        connectivity[e,i]=e+i"
     ],
     "language": "python",
     "metadata": {},
     "outputs": []
    },
    {
     "cell_type": "code",
     "collapsed": false,
     "input": [
      "model = aka.StructuralMechanicsModel(beams)\n",
      "\n",
      "mat1 = aka.StructuralMaterial()\n",
      "\n",
      "mat1.E = 120e6\n",
      "mat1.rho = 1000\n",
      "mat1.A = height\n",
      "mat1.I = height*height*height/12\n",
      "\n",
      "model.addMaterial(mat1)"
     ],
     "language": "python",
     "metadata": {},
     "outputs": []
    },
    {
     "cell_type": "code",
     "collapsed": false,
     "input": [
      "model.initFull(aka.StructuralMechanicsModelOptions(aka._implicit_dynamic))\n",
      "displacement = model.getDisplacement()\n",
      "force = model.getForce()\n",
      "mid_node = int(nb_elements/2)\n",
      "force[mid_node,2] = F"
     ],
     "language": "python",
     "metadata": {},
     "outputs": []
    },
    {
     "cell_type": "code",
     "collapsed": false,
     "input": [
      "fig, ax = plt.subplots()\n",
      "\n",
      "line, = ax.plot(nodes[:,0], displacement[:,1],'-o')"
     ],
     "language": "python",
     "metadata": {},
     "outputs": []
    },
    {
     "cell_type": "code",
     "collapsed": false,
     "input": [
      "boundary =  model.getBlockedDOFs()\n",
      "boundary[0,0] = True\n",
      "boundary[0,1] = True\n",
      "boundary[nb_nodes-1,1] = True"
     ],
     "language": "python",
     "metadata": {},
     "outputs": []
    },
    {
     "cell_type": "code",
     "collapsed": false,
     "input": [
      "model.assembleStiffnessMatrix()\n",
      "model.assembleMass()\n",
      "model.setTimeStep(time_step)"
     ],
     "language": "python",
     "metadata": {},
     "outputs": []
    },
    {
     "cell_type": "code",
     "collapsed": false,
     "input": [
      "def animate(i):\n",
      "    model.solveStep(1e-5,10)\n",
      "    line.set_xdata(nodes[:,0]+displacement[:,0])\n",
      "    line.set_ydata(nodes[:,1]+displacement[:,1])\n",
      "    return line,\n"
     ],
     "language": "python",
     "metadata": {},
     "outputs": []
    },
    {
     "cell_type": "code",
     "collapsed": false,
     "input": [
      "ani = animation.FuncAnimation(fig, animate, frames=10, interval=5)"
     ],
     "language": "python",
     "metadata": {},
     "outputs": []
    },
    {
     "cell_type": "code",
     "collapsed": false,
     "input": [
      "plt.show()"
     ],
     "language": "python",
     "metadata": {},
     "outputs": []
    }
   ],
   "metadata": {}
  }
 ]
}